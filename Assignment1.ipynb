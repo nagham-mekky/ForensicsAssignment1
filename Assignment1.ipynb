{
 "cells": [
  {
   "cell_type": "markdown",
   "metadata": {},
   "source": [
    "### Motivation and Goals"
   ]
  },
  {
   "cell_type": "markdown",
   "metadata": {},
   "source": [
    "### Methodology and Results"
   ]
  },
  {
   "cell_type": "markdown",
   "metadata": {},
   "source": [
    "### Conclusions and Reflections"
   ]
  },
  {
   "cell_type": "code",
   "execution_count": 3,
   "metadata": {},
   "outputs": [],
   "source": [
    "import matplotlib.pyplot as plt\n",
    "import math\n",
    "import csv\n",
    "from selenium import webdriver\n",
    "from selenium.webdriver.firefox.firefox_binary import FirefoxBinary\n",
    "\n",
    "tor_binary_path = \"/Applications/Tor Browser.app/Contents/MacOS/firefox\" #Change this to your path\n",
    "binary = FirefoxBinary(tor_binary_path)\n",
    "\n",
    "!wget https://github.com/mozilla/geckodriver/releases/download/v0.29.1/geckodriver-v0.29.1-macos.tar.gz\n",
    "!tar -xzvf geckodriver-v0.29.1-macos.tar.gz\n",
    "!rm geckodriver-v0.29.1-macos.tar.gz    \n",
    "!mv geckodriver /usr/local/bin/\n",
    "!open /usr/local/bin/geckodriver\n",
    "\n",
    "driver = webdriver.Firefox(firefox_binary = binary)\n",
    "NoOfPosts = 100"
   ]
  },
  {
   "cell_type": "markdown",
   "metadata": {},
   "source": [
    "- the document must contain your analysis of (at least) 100 posts/items\n",
    "- you must classify posts in Legal or Illegal (or Depends and why)\n",
    "- you must classify the posts in categories (feel free to create the category) (I expect a table or graph)\n",
    "- you must investigate the list the sellers (table) (you can classify them based on the successful number of transactions, number of stars, price range, number of posts…)\n",
    "- you must identify the top 10 sellers\n",
    "- you must identify three posts/products that made you most surprised\n",
    "- you must identify top 3 sellers that the police should further investigate and describe your reasons\n",
    "- Feel free to add print screens"
   ]
  },
  {
   "cell_type": "code",
   "execution_count": null,
   "metadata": {},
   "outputs": [],
   "source": []
  }
 ],
 "metadata": {
  "kernelspec": {
   "display_name": "Python 3.10.6 64-bit (microsoft store)",
   "language": "python",
   "name": "python3"
  },
  "language_info": {
   "codemirror_mode": {
    "name": "ipython",
    "version": 3
   },
   "file_extension": ".py",
   "mimetype": "text/x-python",
   "name": "python",
   "nbconvert_exporter": "python",
   "pygments_lexer": "ipython3",
   "version": "3.10.6"
  },
  "orig_nbformat": 4,
  "vscode": {
   "interpreter": {
    "hash": "a9309487acccd0856f8a519019e0531deb688e0d3fd9b2a8278d8251db943493"
   }
  }
 },
 "nbformat": 4,
 "nbformat_minor": 2
}
